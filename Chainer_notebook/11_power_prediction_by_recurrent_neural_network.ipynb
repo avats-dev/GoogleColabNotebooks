{
 "cells": [
  {
   "cell_type": "markdown",
   "metadata": {
    "colab_type": "text",
    "id": "W2tEwyj55RY3"
   },
   "source": [
    "# [MPRG] Recurrent Neural Networkによる電力予測\n",
    "\n",
    "\n",
    "---\n",
    "## 目的\n",
    "Recurrent Neural Networkを使って電力予測を行う．ここで，今回はRecurrent Neural Networkの一種である，Long Short Term Memory（LSTM）を使用する．"
   ]
  },
  {
   "cell_type": "markdown",
   "metadata": {
    "colab_type": "text",
    "id": "5rQGfxWYK_4O"
   },
   "source": [
    "## 準備\n",
    "\n",
    "### Google Colaboratoryの設定確認・変更\n",
    "本チュートリアルではChainerを利用してニューラルネットワークの実装を確認，学習および評価を行います．\n",
    "**GPUを用いて処理を行うために，上部のメニューバーの「ランタイム」→「ランタイムのタイプを変更」からハードウェアアクセラレータをGPUにしてください．**\n",
    "\n",
    "\n",
    "### データのダウンロード\n",
    "プログラムの動作に必要なデータをダウンロードし，zipファイルを解凍する．"
   ]
  },
  {
   "cell_type": "code",
   "execution_count": 1,
   "metadata": {
    "colab": {
     "base_uri": "https://localhost:8080/",
     "height": 170
    },
    "colab_type": "code",
    "executionInfo": {
     "elapsed": 9598,
     "status": "ok",
     "timestamp": 1562837022800,
     "user": {
      "displayName": "Tsubasa Hirakawa",
      "photoUrl": "https://lh5.googleusercontent.com/-p6Kjr3nd0AU/AAAAAAAAAAI/AAAAAAAAJG0/tCF9JFOo7tk/s64/photo.jpg",
      "userId": "03545166870843244307"
     },
     "user_tz": -540
    },
    "id": "Spzsxbxq5Req",
    "outputId": "a2436fcb-3761-4216-e886-90cc55b38417"
   },
   "outputs": [
    {
     "name": "stdout",
     "output_type": "stream",
     "text": [
      "data  data.zip\tsample_data\n",
      "./data:\n",
      "test  train\n",
      "\n",
      "./data/test:\n",
      "BEMS_RNN_test_data.npy\tBEMS_RNN_test_labels.npy\n",
      "\n",
      "./data/train:\n",
      "BEMS_RNN_train_data.npy  BEMS_RNN_train_labels.npy\n"
     ]
    }
   ],
   "source": [
    "!wget -q http://www.mprg.cs.chubu.ac.jp/tutorial/ML_Lecture/SOLAR/data.zip\n",
    "!unzip -q data.zip\n",
    "!ls\n",
    "!ls -R ./data "
   ]
  },
  {
   "cell_type": "markdown",
   "metadata": {
    "colab_type": "text",
    "id": "Xo4jjpmwvle1"
   },
   "source": [
    "## モジュールのインポート\n",
    "はじめに必要なモジュールをインポートする．\n",
    "\n",
    "\n",
    "### GPUの確認\n",
    "GPUを使用した計算が可能かどうかを確認します．\n",
    "\n",
    "`GPU availability: True`と表示されれば，GPUを使用した計算をChainerで行うことが可能です．\n",
    "Falseとなっている場合は，上記の「Google Colaboratoryの設定確認・変更」に記載している手順にしたがって，設定を変更した後に，モジュールのインポートから始めてください．\n"
   ]
  },
  {
   "cell_type": "code",
   "execution_count": null,
   "metadata": {
    "colab": {},
    "colab_type": "code",
    "id": "iCeaCulfvlao"
   },
   "outputs": [],
   "source": [
    "from time import time\n",
    "from os import path\n",
    "import numpy as np\n",
    "import matplotlib.pyplot as plt\n",
    "import chainer\n",
    "from chainer import cuda, optimizers\n",
    "from chainer import Chain, Variable\n",
    "import chainer.functions as F\n",
    "import chainer.links as L\n",
    "\n",
    "# GPUの確認\n",
    "print('GPU availability:', chainer.cuda.available)\n",
    "print('cuDNN availablility:', chainer.cuda.cudnn_enabled)"
   ]
  },
  {
   "cell_type": "markdown",
   "metadata": {
    "colab_type": "text",
    "id": "uldeLCrV5RiN"
   },
   "source": [
    "## データセットの読み込みと確認\n",
    "学習データを読み込みます．\n",
    "\n",
    "読み込んだデータを変換します．\n",
    "ここで，delayは何時刻先の電力値を教師信号にするかを決定するためのパラメータです．\n",
    "delay=1と設定した場合，ネットワークへ入力したデータの1時刻先の電力が正解ラベルとなります．\n",
    "\n",
    "データのサイズを確認します．\n",
    "ネットワークへの入力データサイズは34となっており，出力の値は対応する電力値の1つとなっています．"
   ]
  },
  {
   "cell_type": "code",
   "execution_count": 4,
   "metadata": {
    "colab": {
     "base_uri": "https://localhost:8080/",
     "height": 51
    },
    "colab_type": "code",
    "executionInfo": {
     "elapsed": 390,
     "status": "ok",
     "timestamp": 1562837150151,
     "user": {
      "displayName": "Tsubasa Hirakawa",
      "photoUrl": "https://lh5.googleusercontent.com/-p6Kjr3nd0AU/AAAAAAAAAAI/AAAAAAAAJG0/tCF9JFOo7tk/s64/photo.jpg",
      "userId": "03545166870843244307"
     },
     "user_tz": -540
    },
    "id": "PnxDTzWG5Rmk",
    "outputId": "bd8f385d-8a01-4c45-a130-0264b217f3fc"
   },
   "outputs": [
    {
     "name": "stdout",
     "output_type": "stream",
     "text": [
      "(49999, 34) (49999, 1)\n",
      "(9999, 34) (9999, 1)\n"
     ]
    }
   ],
   "source": [
    "# 読み込み\n",
    "train_x = np.load(path.join('data', 'train', 'BEMS_RNN_train_data.npy'))\n",
    "train_y = np.load(path.join('data', 'train', 'BEMS_RNN_train_labels.npy'))\n",
    "test_x  = np.load(path.join('data', 'test', 'BEMS_RNN_test_data.npy'))\n",
    "test_y = np.load(path.join('data', 'test', 'BEMS_RNN_test_labels.npy'))\n",
    "\n",
    "# 数時刻先の電力が正解データになるように変換\n",
    "delay = 1\n",
    "train_x = np.asarray(train_x[ : -delay])\n",
    "train_y = np.asarray(train_y[delay : ])\n",
    "test_x = np.asarray(test_x[ : -delay])\n",
    "test_y = np.asarray(test_y[delay : ])\n",
    "\n",
    "# データのサイズ確認\n",
    "train_y = train_y.reshape(len(train_y), 1)\n",
    "test_y = test_y.reshape(len(test_y), 1)\n",
    "print(train_x.shape, train_y.shape)\n",
    "print(test_x.shape, test_y.shape)"
   ]
  },
  {
   "cell_type": "markdown",
   "metadata": {
    "colab_type": "text",
    "id": "SvGpadvk5RqS"
   },
   "source": [
    "## ネットワークモデルの定義\n",
    "再帰型ニューラルネットワークを定義します．\n",
    "ここでは，LSTM層1層，全結合層1層から構成されるネットワークとします．\n",
    "\n",
    "LSTM層はRecurrent Neural Networkの一種です．\n",
    "LSTMへの入力サイズはNoneとし，データにより変更できるようにしておきます．\n",
    "\n",
    "\\__call\\__関数では，定義した層を接続して処理するように記述します．\n",
    "この時，全結合層から出力された値はシグモイド関数へと入力され，最終的な出力結果をえます．\n",
    "その後，mean_squared_error関数へ出力値と正解データを入力することで，誤差を計算します．誤差とネットワークの出力値の両方をreturnによって返しています．\n",
    "\n",
    "また，LSTMをはじめとするRecurrent Neural Networkでは，内部に過去の入力情報から計算した値を保持しています．\n",
    "reset_state関数では，この内部情報の初期化を行うような処理を記述しています．\n"
   ]
  },
  {
   "cell_type": "code",
   "execution_count": null,
   "metadata": {
    "colab": {},
    "colab_type": "code",
    "id": "9yXFXGSa5RuT"
   },
   "outputs": [],
   "source": [
    "class LSTM(chainer.Chain):\n",
    "    def __init__(self):\n",
    "        super(LSTM, self).__init__()\n",
    "        with self.init_scope():\n",
    "            self.l1=L.LSTM(None, 136)\n",
    "            self.l2=L.Linear(136, 1)\n",
    "\n",
    "    def __call__(self, x, t):\n",
    "        h = F.sigmoid(self.l1(x))\n",
    "        h = F.sigmoid(self.l2(h))\n",
    "\n",
    "    self.loss = F.mean_squared_error(h, t)\n",
    "        return self.loss, h\n",
    "\n",
    "    def reset_state(self):\n",
    "        self.l1.reset_state()"
   ]
  },
  {
   "cell_type": "markdown",
   "metadata": {
    "colab_type": "text",
    "id": "mhw3p5bt5Ryh"
   },
   "source": [
    "## ネットワークの作成\n",
    "上のプログラムで定義したネットワークを作成します．\n",
    "\n",
    "\n",
    "\n",
    "\n",
    "\n"
   ]
  },
  {
   "cell_type": "code",
   "execution_count": null,
   "metadata": {
    "colab": {
     "base_uri": "https://localhost:8080/",
     "height": 34
    },
    "colab_type": "code",
    "executionInfo": {
     "elapsed": 891,
     "status": "ok",
     "timestamp": 1562823759097,
     "user": {
      "displayName": "Tsubasa Hirakawa",
      "photoUrl": "https://lh5.googleusercontent.com/-p6Kjr3nd0AU/AAAAAAAAAAI/AAAAAAAAJG0/tCF9JFOo7tk/s64/photo.jpg",
      "userId": "03545166870843244307"
     },
     "user_tz": -540
    },
    "id": "Iw8xkuhH5R3T",
    "outputId": "08057981-c80a-403f-96a5-cf022093e4cd"
   },
   "outputs": [
    {
     "data": {
      "text/plain": [
       "<chainer.optimizers.momentum_sgd.MomentumSGD at 0x7f2f22d61cf8>"
      ]
     },
     "execution_count": 20,
     "metadata": {
      "tags": []
     },
     "output_type": "execute_result"
    }
   ],
   "source": [
    "model = LSTM()\n",
    "model.to_gpu()\n",
    "\n",
    "optimizer = chainer.optimizers.MomentumSGD(lr=0.01, momentum=0.9)\n",
    "optimizer.setup(model)"
   ]
  },
  {
   "cell_type": "markdown",
   "metadata": {
    "colab_type": "text",
    "id": "FqIZqgPnE31i"
   },
   "source": [
    "## 学習データの変換\n",
    "\n",
    "上で読み込んだ学習・テストデータは電力の推移を表した１つの時系列データとなっている．\n",
    "ここでは，この一つの時系列データから，短い時間間隔で区切ったデータを作成することで，学習データの作成を行う．\n",
    "\n",
    "まず，time_windowで1サンプルの時間窓を決定する．今回は10時刻で1サンプルと設定した．\n",
    "その後，指定した時間窓でサンプルを抽出し，convert_train_x, とconvert_train_yへと保存する．\n"
   ]
  },
  {
   "cell_type": "code",
   "execution_count": null,
   "metadata": {
    "colab": {
     "base_uri": "https://localhost:8080/",
     "height": 34
    },
    "colab_type": "code",
    "executionInfo": {
     "elapsed": 914,
     "status": "ok",
     "timestamp": 1562823761449,
     "user": {
      "displayName": "Tsubasa Hirakawa",
      "photoUrl": "https://lh5.googleusercontent.com/-p6Kjr3nd0AU/AAAAAAAAAAI/AAAAAAAAJG0/tCF9JFOo7tk/s64/photo.jpg",
      "userId": "03545166870843244307"
     },
     "user_tz": -540
    },
    "id": "46lfrpJzE_NL",
    "outputId": "460f6bef-f2c7-4666-9e53-84cd96448714"
   },
   "outputs": [
    {
     "name": "stdout",
     "output_type": "stream",
     "text": [
      "(49989, 10, 34) (49989, 10, 1)\n"
     ]
    }
   ],
   "source": [
    "time_window = 10\n",
    "\n",
    "convert_train_x = []\n",
    "convert_train_y = []\n",
    "for idx_frame in range(len(train_x) - time_window):\n",
    "    partial_data = train_x[idx_frame:idx_frame + time_window]\n",
    "    partial_label = train_y[idx_frame:idx_frame + time_window]\n",
    "\n",
    "    convert_train_x.append(partial_data)\n",
    "    convert_train_y.append(partial_label)\n",
    "\n",
    "convert_train_x = np.asarray(convert_train_x)\n",
    "convert_train_y = np.asarray(convert_train_y)\n",
    "\n",
    "print(convert_train_x.shape, convert_train_y.shape)"
   ]
  },
  {
   "cell_type": "markdown",
   "metadata": {
    "colab_type": "text",
    "id": "MHSwVOVA5R8M"
   },
   "source": [
    "ここでは，GPUに対応した行列演算モジュールのcupyを呼び出しており，学習およびテストデータをcupyの形式に変換します．\n",
    "cupyはnumpyと互換性があります．"
   ]
  },
  {
   "cell_type": "code",
   "execution_count": null,
   "metadata": {
    "colab": {},
    "colab_type": "code",
    "id": "v9sfZmUtf26u"
   },
   "outputs": [],
   "source": [
    "xp = cuda.cupy\n",
    "convert_train_x = xp.array(convert_train_x, dtype=xp.float32)\n",
    "convert_train_y = xp.array(convert_train_y, dtype=xp.float32)\n",
    "test_x = xp.array(test_x, dtype=xp.float32)\n",
    "test_y = xp.array(test_y, dtype=xp.float32)"
   ]
  },
  {
   "cell_type": "markdown",
   "metadata": {
    "colab_type": "text",
    "id": "PIM8XOcn_ver"
   },
   "source": [
    "## 学習\n",
    "\n",
    "１回の誤差を算出するデータ数（ミニバッチサイズ）100，学習エポック数を10とします．\n",
    "学習データサイズを取得し，１エポック内における更新回数を求めます．\n",
    "学習データは毎エポックでランダムに利用するため，numpyのpermutationという関数を利用します．\n",
    "各更新において，学習用データと教師データをそれぞれxとtとし，to_gpu関数でGPUに転送します．\n",
    "学習モデルにxを与えて各クラスの確率yを取得します．各クラスの確率yと教師ラベルtとの誤差をsoftmax coross entropy誤差関数で算出します．\n",
    "また，認識精度も算出します．そして，誤差をbackward関数で逆伝播し，ネットワークの更新を行います．"
   ]
  },
  {
   "cell_type": "code",
   "execution_count": null,
   "metadata": {
    "colab": {
     "base_uri": "https://localhost:8080/",
     "height": 187
    },
    "colab_type": "code",
    "executionInfo": {
     "elapsed": 276570,
     "status": "ok",
     "timestamp": 1562824123377,
     "user": {
      "displayName": "Tsubasa Hirakawa",
      "photoUrl": "https://lh5.googleusercontent.com/-p6Kjr3nd0AU/AAAAAAAAAAI/AAAAAAAAJG0/tCF9JFOo7tk/s64/photo.jpg",
      "userId": "03545166870843244307"
     },
     "user_tz": -540
    },
    "id": "2YKmAy2y_vi5",
    "outputId": "0e175500-0641-4aec-e098-1e44eebdff81"
   },
   "outputs": [
    {
     "name": "stdout",
     "output_type": "stream",
     "text": [
      "epoch: 1, mean loss: 0.0018333939, elapsed_time :27.719924449920654\n",
      "epoch: 2, mean loss: 0.0007399092, elapsed_time :55.40241289138794\n",
      "epoch: 3, mean loss: 0.00043068835, elapsed_time :83.04099631309509\n",
      "epoch: 4, mean loss: 0.00033185436, elapsed_time :110.62580442428589\n",
      "epoch: 5, mean loss: 0.00026116523, elapsed_time :138.16764521598816\n",
      "epoch: 6, mean loss: 0.00023392595, elapsed_time :165.5917730331421\n",
      "epoch: 7, mean loss: 0.00021323386, elapsed_time :193.07578206062317\n",
      "epoch: 8, mean loss: 0.00022182321, elapsed_time :220.6056478023529\n",
      "epoch: 9, mean loss: 0.00019488708, elapsed_time :248.09467935562134\n",
      "epoch: 10, mean loss: 0.00019687603, elapsed_time :275.646723985672\n"
     ]
    }
   ],
   "source": [
    "batch_size = 100\n",
    "epoch_num = 10\n",
    "\n",
    "train_data_num = convert_train_x.shape[0]\n",
    "iter_one_epoch = int(convert_train_x.shape[0]/batch_size)\n",
    "\n",
    "start = time()\n",
    "for epoch in range(epoch_num):\n",
    "    total_loss = 0\n",
    "\n",
    "    perm = xp.random.permutation(train_data_num)\n",
    "    for i in range(0, train_data_num, batch_size):\n",
    "        x = Variable(cuda.to_gpu(convert_train_x[perm[i:i+batch_size]]))\n",
    "        t = Variable(cuda.to_gpu(convert_train_y[perm[i:i+batch_size]]))\n",
    "    \n",
    "        accum_loss = 0.0\n",
    "        model.reset_state()\n",
    "\n",
    "        for idx_window in range(time_window):\n",
    "            loss, y = model(x[idx_window], t[idx_window])\n",
    "            accum_loss += loss\n",
    "            total_loss += loss.data\n",
    "    \n",
    "        optimizer.target.cleargrads()\n",
    "        accum_loss.backward()\n",
    "        accum_loss.unchain_backward()\n",
    "        accum_loss = 0\n",
    "        optimizer.update()\n",
    "  \n",
    "    elapsed_time = time() - start\n",
    "    print(\"epoch: {}, mean loss: {}, elapsed_time: {}\".format(epoch+1, total_loss/iter_one_epoch, elapsed_time))"
   ]
  },
  {
   "cell_type": "markdown",
   "metadata": {
    "colab_type": "text",
    "id": "ll0rYcEf_vma"
   },
   "source": [
    "## テスト\n",
    "学習したネットワークモデルを用いて評価（予測結果の可視化）を行います．\n",
    "可視化にはmatplotlibを用います"
   ]
  },
  {
   "cell_type": "code",
   "execution_count": null,
   "metadata": {
    "colab": {},
    "colab_type": "code",
    "id": "2RxKzGki_vqR"
   },
   "outputs": [],
   "source": [
    "convert_test_x = test_x.reshape(1, 9999, 34)\n",
    "convert_test_y = test_y.reshape(1, 9999, 1)\n",
    "x_test = Variable(cuda.to_gpu(convert_test_x))\n",
    "t_test = Variable(cuda.to_gpu(convert_test_y))\n",
    "\n",
    "prediction_result = []\n",
    "model.reset_state()\n",
    "\n",
    "for idx_window in range(convert_test_x.shape[1]):\n",
    "    loss, y = model(x_test[:, idx_window], t_test[:, idx_window])\n",
    "    prediction_result.append(y.data)\n",
    "\n",
    "prediction_result = np.array(prediction_result).flatten()\n",
    "\n",
    "plt.figure()\n",
    "plt.plot(test_y.tolist(), color='red', label='true')\n",
    "plt.plot(prediction_result.tolist(), color='blue', label='pred')\n",
    "plt.legend()\n",
    "plt.show()"
   ]
  },
  {
   "cell_type": "markdown",
   "metadata": {
    "colab_type": "text",
    "id": "GTOlLUOD_vuK"
   },
   "source": [
    " ## 課題\n",
    "1. 学習の更新回数を10epoch以上にした場合の結果を比較しましょう．\n",
    "\n",
    "2. LSTM層を増やした際の性能を比較しましょう．\n",
    "\n",
    "3. time_windowとミニバッチサイズを変えて実験しましょう．"
   ]
  }
 ],
 "metadata": {
  "accelerator": "GPU",
  "colab": {
   "collapsed_sections": [],
   "name": "11.Recurrent Neural Networkによる電力予測.ipynb",
   "provenance": [],
   "version": "0.3.2"
  },
  "kernelspec": {
   "display_name": "Python 3",
   "language": "python",
   "name": "python3"
  },
  "language_info": {
   "codemirror_mode": {
    "name": "ipython",
    "version": 3
   },
   "file_extension": ".py",
   "mimetype": "text/x-python",
   "name": "python",
   "nbconvert_exporter": "python",
   "pygments_lexer": "ipython3",
   "version": "3.5.2"
  }
 },
 "nbformat": 4,
 "nbformat_minor": 4
}
