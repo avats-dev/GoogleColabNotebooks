{
 "cells": [
  {
   "cell_type": "markdown",
   "metadata": {
    "colab_type": "text",
    "id": "_NZwOwd9KsKz"
   },
   "source": [
    "# 09-A. MNISTを用いた文字認識（MLP）\n",
    "\n",
    "\n",
    "---\n",
    "## 目的\n",
    "多層パーセプトロン（MLP）を用いてMNISTデータセットに対する文字認識を行う．\n",
    "評価はConfusion Matrixにより各クラスの認識率を用いて行う．"
   ]
  },
  {
   "cell_type": "markdown",
   "metadata": {
    "colab_type": "text",
    "id": "H-0vTan1NYLI"
   },
   "source": [
    "## 使用するデータセット\n",
    "今回の文字認識では，MNIST Datasetを用いる．[MNIST Dataset](http://yann.lecun.com/exdb/mnist/)は，0から9までの数字が記述されている画像から構成されたデータセットである．MNIST Datasetの文字画像は，以下のように白黒で比較的認識しやすいように画像処理されている．\n",
    "\n",
    "![MNIST_sample.png](https://qiita-image-store.s3.ap-northeast-1.amazonaws.com/0/143078/559938dc-9a99-d426-010b-e000bca0aac6.png)"
   ]
  },
  {
   "cell_type": "markdown",
   "metadata": {
    "colab_type": "text",
    "id": "RsGSLNkYQmkG"
   },
   "source": [
    "## モジュールのインポート\n",
    "はじめに必要なモジュールをインポートする．\n",
    "\n",
    "今回は`chainer`をインポートする．"
   ]
  },
  {
   "cell_type": "code",
   "execution_count": null,
   "metadata": {
    "colab": {},
    "colab_type": "code",
    "id": "SLeGt2xaNFOB"
   },
   "outputs": [],
   "source": [
    "from time import time\n",
    "import numpy as np\n",
    "import chainer\n",
    "from chainer import cuda, optimizers\n",
    "from chainer import Chain, Variable\n",
    "import chainer.functions as F\n",
    "import chainer.links as L"
   ]
  },
  {
   "cell_type": "markdown",
   "metadata": {
    "colab_type": "text",
    "id": "Ue60y-upamyo"
   },
   "source": [
    "## データセットの読み込みと確認\n",
    "学習データ（MNIST Dataset）を読み込みます．\n",
    "\n",
    "読み込んだ学習データのサイズを確認します．\n",
    "学習データ数は6万枚．1つのデータのサイズは786次元となっています．"
   ]
  },
  {
   "cell_type": "code",
   "execution_count": null,
   "metadata": {
    "colab": {
     "base_uri": "https://localhost:8080/",
     "height": 119
    },
    "colab_type": "code",
    "executionInfo": {
     "elapsed": 79862,
     "status": "ok",
     "timestamp": 1562837849414,
     "user": {
      "displayName": "Tsubasa Hirakawa",
      "photoUrl": "https://lh5.googleusercontent.com/-p6Kjr3nd0AU/AAAAAAAAAAI/AAAAAAAAJG0/tCF9JFOo7tk/s64/photo.jpg",
      "userId": "03545166870843244307"
     },
     "user_tz": -540
    },
    "id": "n7zpMk-4axYm",
    "outputId": "534e4972-a6d0-418e-d43d-6369fd608208"
   },
   "outputs": [
    {
     "name": "stderr",
     "output_type": "stream",
     "text": [
      "Downloading from http://yann.lecun.com/exdb/mnist/train-images-idx3-ubyte.gz...\n",
      "Downloading from http://yann.lecun.com/exdb/mnist/train-labels-idx1-ubyte.gz...\n",
      "Downloading from http://yann.lecun.com/exdb/mnist/t10k-images-idx3-ubyte.gz...\n",
      "Downloading from http://yann.lecun.com/exdb/mnist/t10k-labels-idx1-ubyte.gz...\n"
     ]
    },
    {
     "name": "stdout",
     "output_type": "stream",
     "text": [
      "(60000, 784) (60000,)\n",
      "(10000, 784) (10000,)\n"
     ]
    }
   ],
   "source": [
    "train_dataset, test_dataset = chainer.datasets.get_mnist()\n",
    "train_x,train_y = train_dataset._datasets\n",
    "test_x, test_y = test_dataset._datasets\n",
    "\n",
    "print(train_x.shape, train_y.shape)\n",
    "print(test_x.shape, test_y.shape)"
   ]
  },
  {
   "cell_type": "markdown",
   "metadata": {
    "colab_type": "text",
    "id": "MN-KoymJbe25"
   },
   "source": [
    "### MNISTデータセットの表示\n",
    "\n",
    "MNISTデータセットに含まれる画像を表示してみます．\n",
    "ここでは，matplotlibを用いて複数の画像を表示させるプログラムを利用します．"
   ]
  },
  {
   "cell_type": "code",
   "execution_count": null,
   "metadata": {
    "colab": {
     "base_uri": "https://localhost:8080/",
     "height": 134
    },
    "colab_type": "code",
    "executionInfo": {
     "elapsed": 937,
     "status": "ok",
     "timestamp": 1562837860904,
     "user": {
      "displayName": "Tsubasa Hirakawa",
      "photoUrl": "https://lh5.googleusercontent.com/-p6Kjr3nd0AU/AAAAAAAAAAI/AAAAAAAAJG0/tCF9JFOo7tk/s64/photo.jpg",
      "userId": "03545166870843244307"
     },
     "user_tz": -540
    },
    "id": "ehg-aZh8be9Z",
    "outputId": "4601a6ef-8805-4d20-b6a9-4bc9b8a85a85"
   },
   "outputs": [
    {
     "data": {
      "text/plain": [
       "<Figure size 432x288 with 0 Axes>"
      ]
     },
     "metadata": {
      "tags": []
     },
     "output_type": "display_data"
    },
    {
     "data": {
      "image/png": "[encoded data removed]",
      "text/plain": [
       "<Figure size 1008x100.8 with 10 Axes>"
      ]
     },
     "metadata": {
      "tags": []
     },
     "output_type": "display_data"
    }
   ],
   "source": [
    "import matplotlib.pyplot as plt\n",
    "\n",
    "cols = 10\n",
    "\n",
    "plt.clf()\n",
    "fig = plt.figure(figsize=(14, 1.4))\n",
    "for c in range(cols):\n",
    "    ax = fig.add_subplot(1, cols, c + 1)\n",
    "    ax.imshow(train_x[c].reshape(28, 28), cmap=plt.get_cmap('gray'))\n",
    "    ax.set_axis_off()\n",
    "plt.show()"
   ]
  },
  {
   "cell_type": "markdown",
   "metadata": {
    "colab_type": "text",
    "id": "G418kZOgToXR"
   },
   "source": [
    "## ネットワークモデルの定義\n",
    "\n",
    "ニューラルネットワークを定義します．\n",
    "ここでは，入力層，中間層，出力層から構成される３層のニューラルネットワークとします．\n",
    "\n",
    "入力層のユニット数は入力データのサイズによります．\n",
    "ここではNoneとし，データにより変更できるようにしておきます．\n",
    "\n",
    "中間層と出力層のユニット数は引数として与え，それぞれn_units，n_outとします．\n",
    "Chainerでは，\\__init\\__関数にこれらの引数を与えて各層を定義します．\n",
    "各層はLinear関数としています．これは全結合層を意味しています．\n",
    "\n",
    "そして，\\__call\\__関数で定義した層を接続して処理するように記述します．\n",
    "\\__call\\__関数の引数xは入力データです．\n",
    "それを\\__init\\__関数で定義したl1という中間層に与え，その出力を活性化関数であるrelu関数に与えます．その出力をh1としています．h1は出力層h2に与えられ，その出力をh2としています．"
   ]
  },
  {
   "cell_type": "code",
   "execution_count": null,
   "metadata": {
    "colab": {},
    "colab_type": "code",
    "id": "8FJhkBJnTuPd"
   },
   "outputs": [],
   "source": [
    "class MLP(chainer.Chain):\n",
    "    def __init__(self, n_units, n_out):\n",
    "        super(MLP, self).__init__()\n",
    "        with self.init_scope():\n",
    "            self.l1 = L.Linear(None, n_units)\n",
    "            self.l2 = L.Linear(n_units, n_out)\n",
    "\n",
    "    def __call__(self, x):\n",
    "        h1 = F.relu(self.l1(x))\n",
    "        h2 = self.l2(h1)\n",
    "        return h2"
   ]
  },
  {
   "cell_type": "markdown",
   "metadata": {
    "colab_type": "text",
    "id": "OF_0s3vBYBES"
   },
   "source": [
    "## ネットワークの作成\n",
    "上のプログラムで定義したネットワークを作成します．\n",
    "\n",
    "まず，中間層と出力層のユニット数を定義します．\n",
    "ここでは，中間層のユニット数（n_units）を50，出力層のユニット数（out_units）を10とします．\n",
    "\n",
    "各層のユニット数をMLP関数の引数として与え，ネットワークモデルを定義します．\n",
    "\n",
    "学習を行う際の最適化方法としてモーメンタムSGD(モーメンタム付き確率的勾配降下法）を利用します．また，学習率を0.01，モーメンタムを0.9として引数に与えます．そして，最適化方法のsetup関数にネットワークモデルを与えます．\n",
    "\n"
   ]
  },
  {
   "cell_type": "code",
   "execution_count": null,
   "metadata": {
    "colab": {
     "base_uri": "https://localhost:8080/",
     "height": 34
    },
    "colab_type": "code",
    "executionInfo": {
     "elapsed": 474,
     "status": "ok",
     "timestamp": 1562837868630,
     "user": {
      "displayName": "Tsubasa Hirakawa",
      "photoUrl": "https://lh5.googleusercontent.com/-p6Kjr3nd0AU/AAAAAAAAAAI/AAAAAAAAJG0/tCF9JFOo7tk/s64/photo.jpg",
      "userId": "03545166870843244307"
     },
     "user_tz": -540
    },
    "id": "FTAUhy9qX4QU",
    "outputId": "3423992b-898a-4631-ec20-0225693750c0"
   },
   "outputs": [
    {
     "data": {
      "text/plain": [
       "<chainer.optimizers.momentum_sgd.MomentumSGD at 0x7f803998cc88>"
      ]
     },
     "execution_count": 6,
     "metadata": {
      "tags": []
     },
     "output_type": "execute_result"
    }
   ],
   "source": [
    "# ユニット数の定義\n",
    "n_units = 50\n",
    "out_units = 10\n",
    "\n",
    "# ネットワークの作成\n",
    "model = MLP(n_units=n_units, n_out=out_units)\n",
    "\n",
    "# 最適化手法の設定\n",
    "optimizer = chainer.optimizers.MomentumSGD(lr=0.01, momentum=0.9)\n",
    "optimizer.setup(model)"
   ]
  },
  {
   "cell_type": "markdown",
   "metadata": {
    "colab_type": "text",
    "id": "iGfy76HRYy4S"
   },
   "source": [
    "## 学習\n",
    "読み込んだMNISTデータセットと作成したネットワークを用いて，学習を行います．\n",
    "\n",
    "1回の誤差を算出するデータ数（ミニバッチサイズ）を100，学習エポック数を10とします．\n",
    "\n",
    "学習を開始します．\n",
    "MNISTの学習データサイズを取得し，1エポック内における更新回数を求めます．\n",
    "学習データは毎エポックでランダムに利用するため，numpyのpermutationという関数を利用します．\n",
    "各更新において，学習用データと教師データをそれぞれxとtとします．\n",
    "学習モデルにxを与えて各クラスの確率yを取得します．\n",
    "各クラスの確率yと教師ラベルtとの誤差をsoftmax coross entropy誤差関数で算出します．\n",
    "また，認識精度も算出します．\n",
    "そして，誤差をbackward関数で逆伝播し，ネットワークの更新を行います．"
   ]
  },
  {
   "cell_type": "code",
   "execution_count": null,
   "metadata": {
    "colab": {
     "base_uri": "https://localhost:8080/",
     "height": 187
    },
    "colab_type": "code",
    "executionInfo": {
     "elapsed": 25652,
     "status": "ok",
     "timestamp": 1562837950486,
     "user": {
      "displayName": "Tsubasa Hirakawa",
      "photoUrl": "https://lh5.googleusercontent.com/-p6Kjr3nd0AU/AAAAAAAAAAI/AAAAAAAAJG0/tCF9JFOo7tk/s64/photo.jpg",
      "userId": "03545166870843244307"
     },
     "user_tz": -540
    },
    "id": "C0iI0zC-ZSY2",
    "outputId": "6d818491-7293-44d1-d984-d0b7b2a90b95"
   },
   "outputs": [
    {
     "name": "stdout",
     "output_type": "stream",
     "text": [
      "epoch: 1, mean loss: 0.4997894151012103, mean accuracy: 0.8636833347876867\n",
      "epoch: 2, mean loss: 0.2628886147712668, mean accuracy: 0.9242500020066897\n",
      "epoch: 3, mean loss: 0.21528200936814149, mean accuracy: 0.9381833353638649\n",
      "epoch: 4, mean loss: 0.18603893416002393, mean accuracy: 0.9471666679779689\n",
      "epoch: 5, mean loss: 0.16474373631179332, mean accuracy: 0.9529000022013983\n",
      "epoch: 6, mean loss: 0.14779339289292692, mean accuracy: 0.9587166697780292\n",
      "epoch: 7, mean loss: 0.13532202234491705, mean accuracy: 0.961350003083547\n",
      "epoch: 8, mean loss: 0.12368039255340894, mean accuracy: 0.9651166712244351\n",
      "epoch: 9, mean loss: 0.11476841354121764, mean accuracy: 0.9674833403031031\n",
      "epoch: 10, mean loss: 0.10658274720733364, mean accuracy: 0.9702000058690707\n"
     ]
    }
   ],
   "source": [
    "# ミニバッチサイズ・エポック数．学習データ数の設定\n",
    "batch_size = 100\n",
    "epoch_num = 10\n",
    "train_data_num = train_x.shape[0]\n",
    "\n",
    "# 学習の実行\n",
    "for epoch in range(epoch_num):\n",
    "    sum_loss = 0\n",
    "    sum_accuracy = 0\n",
    "    perm = np.random.permutation(train_data_num)\n",
    "    for i in range(0, train_data_num, batch_size):\n",
    "        x = Variable(train_x[perm[i:i+batch_size]])\n",
    "        t = Variable(train_y[perm[i:i+batch_size]])\n",
    "\n",
    "        model.zerograds()\n",
    "        y = model(x)\n",
    "        loss = F.softmax_cross_entropy(y, t)\n",
    "\n",
    "        acc = F.accuracy(y, t)\n",
    "\n",
    "        loss.backward()\n",
    "        optimizer.update()\n",
    "\n",
    "        sum_loss += loss.data*batch_size\n",
    "        sum_accuracy += acc.data*batch_size\n",
    "\n",
    "    print(\"epoch: {}, mean loss: {}, mean accuracy: {}\".format(epoch+1, sum_loss/train_data_num, sum_accuracy/train_data_num))"
   ]
  },
  {
   "cell_type": "markdown",
   "metadata": {
    "colab_type": "text",
    "id": "Ti1LytKAZYIO"
   },
   "source": [
    "## テスト\n",
    "\n",
    "学習したネットワークを用いて，テストデータに対する認識率の確認を行います．"
   ]
  },
  {
   "cell_type": "code",
   "execution_count": null,
   "metadata": {
    "colab": {
     "base_uri": "https://localhost:8080/",
     "height": 34
    },
    "colab_type": "code",
    "executionInfo": {
     "elapsed": 3790,
     "status": "ok",
     "timestamp": 1562837972576,
     "user": {
      "displayName": "Tsubasa Hirakawa",
      "photoUrl": "https://lh5.googleusercontent.com/-p6Kjr3nd0AU/AAAAAAAAAAI/AAAAAAAAJG0/tCF9JFOo7tk/s64/photo.jpg",
      "userId": "03545166870843244307"
     },
     "user_tz": -540
    },
    "id": "635DQ0ATYBJN",
    "outputId": "964dd9db-0cb5-453c-99ef-ffac30f70c62"
   },
   "outputs": [
    {
     "name": "stdout",
     "output_type": "stream",
     "text": [
      "test accuracy: 0.9668\n"
     ]
    }
   ],
   "source": [
    "count = 0\n",
    "test_data_num = test_x.shape[0]\n",
    "\n",
    "for i in range(test_data_num):\n",
    "    x = Variable(np.array([test_x[i]], dtype=np.float32))\n",
    "    t = test_y[i]\n",
    "    y = model(x)\n",
    "    y = np.argmax(y.data[0])\n",
    "    if t == y:\n",
    "        count += 1\n",
    "\n",
    "print(\"test accuracy: {}\".format(count/test_data_num))"
   ]
  },
  {
   "cell_type": "markdown",
   "metadata": {
    "colab_type": "text",
    "id": "7YT4hqE3Ycpg"
   },
   "source": [
    "## 課題\n",
    "1. ネットワークの構造を変えて実験しましょう．\n",
    "    * まず，中間層のユニット数を200個にしましょう．\n",
    "    * 次に，中間層を1層増やしましょう．その際， 中間層のユニット数は200個としましょう．\n",
    "\n",
    "2. エポック数やミニバッチサイズを変えて実験しましょう．\n",
    "    * まず，ミニバッチサイズを128にしましょう．\n",
    "    * 次に，エポック数を50に増やしてみましょう．"
   ]
  },
  {
   "cell_type": "markdown",
   "metadata": {
    "colab_type": "text",
    "id": "1y6zhQe4YBVi"
   },
   "source": [
    "## 別のプログラムの書き方\n",
    "ここまでのコードは学習の流れをわかりやすくするために，エポックまたはミニバッチ毎にfor文で学習を行うようにプログラムを作成しました．\n",
    "chainerでは，trainerとupdaterという繰り返し処理を抽象化するクラスが用意されています．\n",
    "これらを利用した場合は，以下のように書くことができます．\n",
    "\n",
    "1. SerialIteratorにより学習および評価データを繰り返し取得することができます．\n",
    "\n",
    "2. StarndardUpdaterは，SerialIteratorによって繰り返し取得したデータをoptimizerに渡してmodelをアップデートします．\n",
    "\n",
    "3. TrainerはこのUpdaterの処理を指定されたエポック回数分行い，学習したモデルをresultに保存できます． Trainerにはさまざなま拡張機能を追加できます．\n",
    "\n",
    "4. Evaluatorは学習したモデルを評価する機能であり，LogReportは学習時のロスは精度を記憶します．これらの記憶されているログをPlotReportが表示したりグラフとして保存したりします．\n",
    "\n",
    "5. 学習の実行はtrainerクラスのrun関数により行います．"
   ]
  },
  {
   "cell_type": "code",
   "execution_count": null,
   "metadata": {
    "colab": {
     "base_uri": "https://localhost:8080/",
     "height": 204
    },
    "colab_type": "code",
    "executionInfo": {
     "elapsed": 37723,
     "status": "ok",
     "timestamp": 1562771262680,
     "user": {
      "displayName": "Tsubasa Hirakawa",
      "photoUrl": "https://lh5.googleusercontent.com/-p6Kjr3nd0AU/AAAAAAAAAAI/AAAAAAAAJG0/tCF9JFOo7tk/s64/photo.jpg",
      "userId": "03545166870843244307"
     },
     "user_tz": -540
    },
    "id": "3M7d0YjVYBZj",
    "outputId": "17e7e2d1-e9a9-4192-de87-bf7c728bc160"
   },
   "outputs": [
    {
     "name": "stdout",
     "output_type": "stream",
     "text": [
      "epoch       main/loss   validation/main/loss  main/accuracy  validation/main/accuracy  elapsed_time\n",
      "\u001b[J1           0.491238    0.289738              0.864517       0.9165                    2.30586       \n",
      "\u001b[J2           0.262965    0.226646              0.924783       0.9353                    5.87707       \n",
      "\u001b[J3           0.212222    0.193569              0.939533       0.9446                    9.41284       \n",
      "\u001b[J4           0.180991    0.167073              0.9481         0.9506                    13.0606       \n",
      "\u001b[J5           0.158313    0.154387              0.9548         0.9557                    16.7924       \n",
      "\u001b[J6           0.141008    0.141487              0.959917       0.9595                    20.5325       \n",
      "\u001b[J7           0.12738     0.127749              0.9634         0.9611                    24.3572       \n",
      "\u001b[J8           0.116847    0.120854              0.965767       0.9623                    28.1758       \n",
      "\u001b[J9           0.107698    0.114529              0.9689         0.9643                    31.9866       \n",
      "\u001b[J10          0.0999533   0.10789               0.9709         0.9665                    35.8667       \n"
     ]
    }
   ],
   "source": [
    "from chainer import training\n",
    "from chainer.training import extensions\n",
    "\n",
    "batch_size = 100\n",
    "epoch_num = 10\n",
    "\n",
    "n_units = 50\n",
    "out_units = 10\n",
    "\n",
    "model = L.Classifier(MLP(n_units, out_units))\n",
    "optimizer = chainer.optimizers.MomentumSGD(lr=0.01, momentum=0.9)\n",
    "optimizer.setup(model)  \n",
    "  \n",
    "train_dataset, test_dataset = chainer.datasets.get_mnist()\n",
    "\n",
    "# 1. SerialIterator\n",
    "train_iter = chainer.iterators.SerialIterator(train_dataset, batch_size)\n",
    "test_iter = chainer.iterators.SerialIterator(test_dataset, batch_size, repeat=False, shuffle=False)\n",
    "\n",
    "# 2. StandardUpdater\n",
    "updater = training.updaters.StandardUpdater( train_iter, optimizer, device=-1)\n",
    "\n",
    "# 3. Trainer\n",
    "trainer = training.Trainer(updater, (epoch_num, 'epoch'), out='result')\n",
    "\n",
    "# 4. Evaluator\n",
    "trainer.extend(extensions.Evaluator(test_iter, model, device=-1))\n",
    "trainer.extend(extensions.dump_graph('main/loss'))\n",
    "trainer.extend(extensions.LogReport())\n",
    "trainer.extend(extensions.PlotReport(['main/loss', 'validation/main/loss'],\n",
    "                                     'epoch', file_name='loss.png'))\n",
    "trainer.extend(extensions.PlotReport(['main/accuracy', 'validation/main/accuracy'],\n",
    "                                     'epoch', file_name='accuracy.png'))\n",
    "trainer.extend(extensions.PrintReport(['epoch', 'main/loss', 'validation/main/loss',\n",
    "                                       'main/accuracy', 'validation/main/accuracy', 'elapsed_time']))\n",
    "\n",
    "# 5. 学習の実行\n",
    "trainer.run()"
   ]
  }
 ],
 "metadata": {
  "colab": {
   "collapsed_sections": [],
   "name": "09-A.MNISTを用いた文字認識(MLP).ipynb",
   "provenance": [],
   "version": "0.3.2"
  },
  "kernelspec": {
   "display_name": "Python 3",
   "language": "python",
   "name": "python3"
  },
  "language_info": {
   "codemirror_mode": {
    "name": "ipython",
    "version": 3
   },
   "file_extension": ".py",
   "mimetype": "text/x-python",
   "name": "python",
   "nbconvert_exporter": "python",
   "pygments_lexer": "ipython3",
   "version": "3.5.2"
  }
 },
 "nbformat": 4,
 "nbformat_minor": 4
}
