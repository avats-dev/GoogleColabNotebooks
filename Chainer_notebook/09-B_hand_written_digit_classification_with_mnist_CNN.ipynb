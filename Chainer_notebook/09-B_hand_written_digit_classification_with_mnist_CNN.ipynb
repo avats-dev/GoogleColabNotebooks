{
 "cells": [
  {
   "cell_type": "markdown",
   "metadata": {
    "colab_type": "text",
    "id": "xP6-w6Uxb6jR"
   },
   "source": [
    "# 09-B. MNISTを用いた文字認識（CNN）\n",
    "\n",
    "\n",
    "---\n",
    "## 目的\n",
    "畳み込みニューラルネットワーク（CNN）を用いてMNISTデータセットに対する文字認識を行う．\n",
    "評価はConfusion Matrixにより各クラスの認識率を用いて行う．\n",
    "\n",
    "GPUを用いたネットワークの計算を行う．"
   ]
  },
  {
   "cell_type": "markdown",
   "metadata": {
    "colab_type": "text",
    "id": "5rQGfxWYK_4O"
   },
   "source": [
    "## 準備\n",
    "\n",
    "### Google Colaboratoryの設定確認・変更\n",
    "本チュートリアルではChainerを利用してニューラルネットワークの実装を確認，学習および評価を行います．\n",
    "**GPUを用いて処理を行うために，上部のメニューバーの「ランタイム」→「ランタイムのタイプを変更」からハードウェアアクセラレータをGPUにしてください．**"
   ]
  },
  {
   "cell_type": "markdown",
   "metadata": {
    "colab_type": "text",
    "id": "RsGSLNkYQmkG"
   },
   "source": [
    "## モジュールのインポート\n",
    "はじめに必要なモジュールをインポートする．"
   ]
  },
  {
   "cell_type": "code",
   "execution_count": null,
   "metadata": {
    "colab": {},
    "colab_type": "code",
    "id": "SLeGt2xaNFOB"
   },
   "outputs": [],
   "source": [
    "from time import time\n",
    "import numpy as np\n",
    "import chainer\n",
    "from chainer import cuda, optimizers\n",
    "from chainer import Chain, Variable\n",
    "import chainer.functions as F\n",
    "import chainer.links as L"
   ]
  },
  {
   "cell_type": "markdown",
   "metadata": {
    "colab_type": "text",
    "id": "-Fqm5On1W7XD"
   },
   "source": [
    "### GPUの確認\n",
    "GPUを使用した計算が可能かどうかを確認します．\n",
    "\n",
    "`GPU availability: True`と表示されれば，GPUを使用した計算をChainerで行うことが可能です．\n",
    "Falseとなっている場合は，上記の「Google Colaboratoryの設定確認・変更」に記載している手順にしたがって，設定を変更した後に，モジュールのインポートから始めてください．\n"
   ]
  },
  {
   "cell_type": "code",
   "execution_count": 2,
   "metadata": {
    "colab": {
     "base_uri": "https://localhost:8080/",
     "height": 51
    },
    "colab_type": "code",
    "executionInfo": {
     "elapsed": 431,
     "status": "ok",
     "timestamp": 1562839131955,
     "user": {
      "displayName": "Tsubasa Hirakawa",
      "photoUrl": "https://lh5.googleusercontent.com/-p6Kjr3nd0AU/AAAAAAAAAAI/AAAAAAAAJG0/tCF9JFOo7tk/s64/photo.jpg",
      "userId": "03545166870843244307"
     },
     "user_tz": -540
    },
    "id": "FHZ6sIjCPNsx",
    "outputId": "aa36faeb-be16-492d-e1ff-765d6f15a0aa"
   },
   "outputs": [
    {
     "name": "stdout",
     "output_type": "stream",
     "text": [
      "GPU availability: True\n",
      "cuDNN availablility: True\n"
     ]
    }
   ],
   "source": [
    "print('GPU availability:', chainer.cuda.available)\n",
    "print('cuDNN availablility:', chainer.cuda.cudnn_enabled)"
   ]
  },
  {
   "cell_type": "markdown",
   "metadata": {
    "colab_type": "text",
    "id": "Ue60y-upamyo"
   },
   "source": [
    "## データセットの読み込みと確認\n",
    "学習データ（MNIST Dataset）を読み込みます．"
   ]
  },
  {
   "cell_type": "code",
   "execution_count": 3,
   "metadata": {
    "colab": {
     "base_uri": "https://localhost:8080/",
     "height": 119
    },
    "colab_type": "code",
    "executionInfo": {
     "elapsed": 65394,
     "status": "ok",
     "timestamp": 1562839198791,
     "user": {
      "displayName": "Tsubasa Hirakawa",
      "photoUrl": "https://lh5.googleusercontent.com/-p6Kjr3nd0AU/AAAAAAAAAAI/AAAAAAAAJG0/tCF9JFOo7tk/s64/photo.jpg",
      "userId": "03545166870843244307"
     },
     "user_tz": -540
    },
    "id": "n7zpMk-4axYm",
    "outputId": "b236785f-84ea-4fdc-b987-548f082995b4"
   },
   "outputs": [
    {
     "name": "stderr",
     "output_type": "stream",
     "text": [
      "Downloading from http://yann.lecun.com/exdb/mnist/train-images-idx3-ubyte.gz...\n",
      "Downloading from http://yann.lecun.com/exdb/mnist/train-labels-idx1-ubyte.gz...\n",
      "Downloading from http://yann.lecun.com/exdb/mnist/t10k-images-idx3-ubyte.gz...\n",
      "Downloading from http://yann.lecun.com/exdb/mnist/t10k-labels-idx1-ubyte.gz...\n"
     ]
    },
    {
     "name": "stdout",
     "output_type": "stream",
     "text": [
      "(60000, 784) (60000,)\n",
      "(10000, 784) (10000,)\n"
     ]
    }
   ],
   "source": [
    "train_dataset, test_dataset = chainer.datasets.get_mnist()\n",
    "train_x,train_y = train_dataset._datasets\n",
    "test_x, test_y = test_dataset._datasets\n",
    "\n",
    "print(train_x.shape, train_y.shape)\n",
    "print(test_x.shape, test_y.shape)"
   ]
  },
  {
   "cell_type": "markdown",
   "metadata": {
    "colab_type": "text",
    "id": "MN-KoymJbe25"
   },
   "source": [
    "### MNISTデータセットの表示\n",
    "\n",
    "MNISTデータセットに含まれる画像を表示してみます．\n",
    "ここでは，matplotlibを用いて複数の画像を表示させるプログラムを利用します．"
   ]
  },
  {
   "cell_type": "code",
   "execution_count": 4,
   "metadata": {
    "colab": {
     "base_uri": "https://localhost:8080/",
     "height": 134
    },
    "colab_type": "code",
    "executionInfo": {
     "elapsed": 869,
     "status": "ok",
     "timestamp": 1562839201070,
     "user": {
      "displayName": "Tsubasa Hirakawa",
      "photoUrl": "https://lh5.googleusercontent.com/-p6Kjr3nd0AU/AAAAAAAAAAI/AAAAAAAAJG0/tCF9JFOo7tk/s64/photo.jpg",
      "userId": "03545166870843244307"
     },
     "user_tz": -540
    },
    "id": "ehg-aZh8be9Z",
    "outputId": "3d8c39a2-5969-4854-a9be-be709719bf39"
   },
   "outputs": [
    {
     "data": {
      "text/plain": [
       "<Figure size 432x288 with 0 Axes>"
      ]
     },
     "metadata": {
      "tags": []
     },
     "output_type": "display_data"
    },
    {
     "data": {
      "image/png": "[encoded data removed]",
      "text/plain": [
       "<Figure size 1008x100.8 with 10 Axes>"
      ]
     },
     "metadata": {
      "tags": []
     },
     "output_type": "display_data"
    }
   ],
   "source": [
    "import matplotlib.pyplot as plt\n",
    "\n",
    "cols = 10\n",
    "\n",
    "plt.clf()\n",
    "fig = plt.figure(figsize=(14, 1.4))\n",
    "for c in range(cols):\n",
    "    ax = fig.add_subplot(1, cols, c + 1)\n",
    "    ax.imshow(train_x[c].reshape(28, 28), cmap=plt.get_cmap('gray'))\n",
    "    ax.set_axis_off()\n",
    "plt.show()"
   ]
  },
  {
   "cell_type": "markdown",
   "metadata": {
    "colab_type": "text",
    "id": "G418kZOgToXR"
   },
   "source": [
    "## ネットワークモデルの定義\n",
    "\n",
    "畳み込みニューラルネットワークを定義します．\n",
    "\n",
    "ここでは，畳み込み層２層，全結合層３層から構成されるネットワークとします．\n",
    "\n",
    "１層目の畳み込み層は入力チャンネル数が１，出力する特徴マップ数が16，畳み込むフィルタサイズが3x3です．２層目の畳み込み層は入力チャネル数が16．出力する特徴マップ数が32，畳み込むフィルタサイズは同じく3x3です．\n",
    "１つ目の全結合層は入力ユニット数は不定とし，出力は1024としています．次の全結合層入力，出力共に1024，出力層は入力が1024，出力が10です．これらの各層の構成を\\__init\\__関数で定義します．\n",
    "\n",
    "次に，\\__call\\__関数では，定義した層を接続して処理するように記述します．\\__call\\__関数の引数xは入力データです．それを\\__init\\__関数で定義したconv1に与え，その出力を活性化関数であるrelu関数に与えます．そして，その出力をmax_pooling_2dに与えて，プーリング処理結果をhとして出力します．hはconv2に与えられて畳み込み処理とプーリング処理を行います．そして，出力hをl1に与えて全結合層の処理を行います．\n",
    "最終的にl3の全結合層の処理を行った出力hを戻り値としています．\n"
   ]
  },
  {
   "cell_type": "code",
   "execution_count": null,
   "metadata": {
    "colab": {},
    "colab_type": "code",
    "id": "8FJhkBJnTuPd"
   },
   "outputs": [],
   "source": [
    "class CNN(Chain):\n",
    "    def __init__(self):\n",
    "        super(CNN, self).__init__()\n",
    "        with self.init_scope():\n",
    "            self.conv1 = L.Convolution2D(1, 16, 3) \n",
    "            self.conv2 = L.Convolution2D(16, 32, 3) \n",
    "            self.l1 = L.Linear(None, 1024)\n",
    "            self.l2 = L.Linear(1024, 1024)\n",
    "            self.l3 = L.Linear(1024, 10)\n",
    "\n",
    "    def __call__(self, x):\n",
    "        h = F.max_pooling_2d(F.relu(self.conv1(x)), 2)\n",
    "        h = F.max_pooling_2d(F.relu(self.conv2(h)), 2)\n",
    "        h = F.relu(self.l1(h))\n",
    "        h = F.relu(self.l2(h))\n",
    "        h = self.l3(h)\n",
    "        return h"
   ]
  },
  {
   "cell_type": "markdown",
   "metadata": {
    "colab_type": "text",
    "id": "ijVjOGVhb6vs"
   },
   "source": [
    "## ネットワークの作成\n",
    "上のプログラムで定義したネットワークを作成します．\n",
    "ここでは，GPUで学習を行うために，modelをGPUに送るto_gpu関数を利用しています．\n",
    "\n",
    "\n",
    "学習を行う際の最適化方法としてモーメンタムSGD(モーメンタム付き確率的勾配降下法）を利用します．また，学習率を0.01，モーメンタムを0.9として引数に与えます．そして，最適化方法のsetup関数にネットワークモデルを与えます．"
   ]
  },
  {
   "cell_type": "code",
   "execution_count": 9,
   "metadata": {
    "colab": {
     "base_uri": "https://localhost:8080/",
     "height": 34
    },
    "colab_type": "code",
    "executionInfo": {
     "elapsed": 386,
     "status": "ok",
     "timestamp": 1562839850647,
     "user": {
      "displayName": "Tsubasa Hirakawa",
      "photoUrl": "https://lh5.googleusercontent.com/-p6Kjr3nd0AU/AAAAAAAAAAI/AAAAAAAAJG0/tCF9JFOo7tk/s64/photo.jpg",
      "userId": "03545166870843244307"
     },
     "user_tz": -540
    },
    "id": "SyfYfpXvb62g",
    "outputId": "1ce52d0a-030f-4a90-dd11-345fbaa0ec69"
   },
   "outputs": [
    {
     "data": {
      "text/plain": [
       "<chainer.optimizers.momentum_sgd.MomentumSGD at 0x7f5a0753de48>"
      ]
     },
     "execution_count": 9,
     "metadata": {
      "tags": []
     },
     "output_type": "execute_result"
    }
   ],
   "source": [
    "model = CNN()\n",
    "model.to_gpu()\n",
    "\n",
    "optimizer = chainer.optimizers.MomentumSGD(lr=0.01, momentum=0.9)\n",
    "optimizer.setup(model)"
   ]
  },
  {
   "cell_type": "markdown",
   "metadata": {
    "colab_type": "text",
    "id": "hqE6KXBe-F7J"
   },
   "source": [
    "## データの変換\n",
    "\n",
    "Chainerを用いた場合，畳み込み層への入力するデータは[ミニバッチサイズ，チャンネル，画像の縦幅，画像の横幅]という配列の形状である必要があります．\n",
    "そのため，reshape関数を用いて，配列の形状を変換します．\n",
    "その後，transpose関数を用いて，配列の次元の順番を入れ替えることで，ネットワークへ入力するデータの形式に変更します．\n",
    "\n",
    "ここでは，GPUに対応した行列演算モジュールのcupyを呼び出しており，学習およびテストデータをcupyの形式に変換します．\n",
    "cupyはnumpyと互換性があります．"
   ]
  },
  {
   "cell_type": "code",
   "execution_count": 10,
   "metadata": {
    "colab": {
     "base_uri": "https://localhost:8080/",
     "height": 51
    },
    "colab_type": "code",
    "executionInfo": {
     "elapsed": 757,
     "status": "ok",
     "timestamp": 1562839852139,
     "user": {
      "displayName": "Tsubasa Hirakawa",
      "photoUrl": "https://lh5.googleusercontent.com/-p6Kjr3nd0AU/AAAAAAAAAAI/AAAAAAAAJG0/tCF9JFOo7tk/s64/photo.jpg",
      "userId": "03545166870843244307"
     },
     "user_tz": -540
    },
    "id": "lWQdzb2f9Ggc",
    "outputId": "7aabc188-1fce-408b-e905-6a14b2416de1"
   },
   "outputs": [
    {
     "name": "stdout",
     "output_type": "stream",
     "text": [
      "(60000, 1, 28, 28) (60000,)\n",
      "(10000, 1, 28, 28) (10000,)\n"
     ]
    }
   ],
   "source": [
    "# 配列の形状変換\n",
    "train_x = train_x.reshape(60000, 28, 28, 1).transpose(0,3,1,2)\n",
    "test_x = test_x.reshape(10000, 28, 28, 1).transpose(0,3,1,2)\n",
    "print(train_x.shape, train_y.shape)\n",
    "print(test_x.shape, test_y.shape)\n",
    "\n",
    "# cupyへの変換\n",
    "xp = cuda.cupy\n",
    "train_x = xp.array(train_x, dtype=xp.float32)\n",
    "train_y = xp.array(train_y, dtype = xp.int32)\n",
    "test_x = xp.array(test_x, dtype=xp.float32)\n",
    "test_y = xp.array(test_y, dtype = xp.int32)"
   ]
  },
  {
   "cell_type": "markdown",
   "metadata": {
    "colab_type": "text",
    "id": "lhbw4THgb680"
   },
   "source": [
    "## 学習\n",
    "１回の誤差を算出するデータ数（ミニバッチサイズ）を100，学習エポック数を10とします．MNISTの学習データサイズを取得し，１エポック内における更新回数を求めます．学習データは毎エポックでランダムに利用するため，numpyのpermutationという関数を利用します．各更新において，学習用データと教師データをそれぞれxとtとし，to_gpu関数でGPUに転送します．学習モデルにxを与えて各クラスの確率yを取得します．各クラスの確率yと教師ラベルtとの誤差をsoftmax coross entropy誤差関数で算出します．また，認識精度も算出します．そして，誤差をbackward関数で逆伝播し，ネットワークの更新を行います．\n"
   ]
  },
  {
   "cell_type": "code",
   "execution_count": 11,
   "metadata": {
    "colab": {
     "base_uri": "https://localhost:8080/",
     "height": 187
    },
    "colab_type": "code",
    "executionInfo": {
     "elapsed": 35781,
     "status": "ok",
     "timestamp": 1562839888807,
     "user": {
      "displayName": "Tsubasa Hirakawa",
      "photoUrl": "https://lh5.googleusercontent.com/-p6Kjr3nd0AU/AAAAAAAAAAI/AAAAAAAAJG0/tCF9JFOo7tk/s64/photo.jpg",
      "userId": "03545166870843244307"
     },
     "user_tz": -540
    },
    "id": "UsBaxg2Wb7Dp",
    "outputId": "be788072-1ca6-4993-d9eb-71ea7623c2bd"
   },
   "outputs": [
    {
     "name": "stdout",
     "output_type": "stream",
     "text": [
      "epoch: 1, mean loss: 0.21716072, mean accuracy: 0.93256664\n",
      "epoch: 2, mean loss: 0.06118925, mean accuracy: 0.98135\n",
      "epoch: 3, mean loss: 0.042200293, mean accuracy: 0.98658335\n",
      "epoch: 4, mean loss: 0.032672938, mean accuracy: 0.9892333\n",
      "epoch: 5, mean loss: 0.02529291, mean accuracy: 0.9917833\n",
      "epoch: 6, mean loss: 0.0193544, mean accuracy: 0.9939\n",
      "epoch: 7, mean loss: 0.014604744, mean accuracy: 0.9956833\n",
      "epoch: 8, mean loss: 0.0116014555, mean accuracy: 0.9964167\n",
      "epoch: 9, mean loss: 0.0094543435, mean accuracy: 0.9971\n",
      "epoch: 10, mean loss: 0.008864799, mean accuracy: 0.99705\n"
     ]
    }
   ],
   "source": [
    "batch_size = 100\n",
    "epoch_num = 10\n",
    "train_data_num = train_x.shape[0]\n",
    "\n",
    "for epoch in range(epoch_num):\n",
    "    sum_loss = 0\n",
    "    sum_accuracy = 0\n",
    "    perm = xp.random.permutation(train_data_num)\n",
    "    for i in range(0, train_data_num, batch_size):\n",
    "        x = Variable(cuda.to_gpu(train_x[perm[i:i+batch_size]]))\n",
    "        t = Variable(cuda.to_gpu(train_y[perm[i:i+batch_size]]))\n",
    "\n",
    "        y = model(x)        \n",
    "        model.zerograds()\n",
    "        loss = F.softmax_cross_entropy(y, t)\n",
    "        acc = F.accuracy(y, t)\n",
    "        loss.backward()\n",
    "        optimizer.update()\n",
    "        sum_loss += loss.data*batch_size\n",
    "        sum_accuracy += acc.data*batch_size\n",
    "\n",
    "    print(\"epoch: {}, mean loss: {}, mean accuracy: {}\".format(epoch+1, sum_loss/train_data_num, sum_accuracy/train_data_num))"
   ]
  },
  {
   "cell_type": "markdown",
   "metadata": {
    "colab_type": "text",
    "id": "f5oxc_C-b6g9"
   },
   "source": [
    "## テスト\n",
    "学習したネットワークを用いて，テストデータに対する認識率の確認を行います．"
   ]
  },
  {
   "cell_type": "code",
   "execution_count": 12,
   "metadata": {
    "colab": {
     "base_uri": "https://localhost:8080/",
     "height": 34
    },
    "colab_type": "code",
    "executionInfo": {
     "elapsed": 15153,
     "status": "ok",
     "timestamp": 1562840018991,
     "user": {
      "displayName": "Tsubasa Hirakawa",
      "photoUrl": "https://lh5.googleusercontent.com/-p6Kjr3nd0AU/AAAAAAAAAAI/AAAAAAAAJG0/tCF9JFOo7tk/s64/photo.jpg",
      "userId": "03545166870843244307"
     },
     "user_tz": -540
    },
    "id": "eDwQ-iJtjSaL",
    "outputId": "09b74d5c-741f-4c50-e516-b0aa298c543b"
   },
   "outputs": [
    {
     "name": "stdout",
     "output_type": "stream",
     "text": [
      "test accuracy: 0.9906\n"
     ]
    }
   ],
   "source": [
    "cnt = 0\n",
    "test_data_num = test_x.shape[0]\n",
    "\n",
    "for i in range(test_data_num):\n",
    "    x = Variable(cuda.to_gpu(test_x[i].reshape(1,1,28,28)))\n",
    "    t = test_y[i]\n",
    "    y = model(x)\n",
    "    y = np.argmax(y.data[0])\n",
    "    if t == y:\n",
    "        cnt += 1\n",
    "\n",
    "print(\"test accuracy: {}\".format(cnt/test_data_num))"
   ]
  },
  {
   "cell_type": "markdown",
   "metadata": {
    "colab_type": "text",
    "id": "RO9gksBuj0qm"
   },
   "source": [
    "## 課題\n",
    "\n",
    "1. ネットワーク構造を変えて実験しましょう． \n",
    "    * まず，1層目の畳み込み層のフィルタ数を32にしましょう．また，2層目の畳み込み層のフィルタ数を64にしましょう．\n",
    "    * 次に，中間層のユニット数を2048にしましょう．\n",
    "\n",
    "2. 最適化の方法をAdamに変えて実験しましょう．\n",
    "\n",
    "3. エポック数やミニバッチサイズを変えて実験しましょう．\n",
    "    * まず，ミニバッチサイズを128にしましょう．\n",
    "    * 次に，エポック数を50にしましょう．\n"
   ]
  },
  {
   "cell_type": "markdown",
   "metadata": {
    "colab_type": "text",
    "id": "zNuXpWZykVoy"
   },
   "source": [
    "## 別のコードの書き方\n",
    "前回の多層パーセプトロンと同様にTrainerを利用したプログラムを作成します．"
   ]
  },
  {
   "cell_type": "code",
   "execution_count": null,
   "metadata": {
    "colab": {
     "base_uri": "https://localhost:8080/",
     "height": 204
    },
    "colab_type": "code",
    "executionInfo": {
     "elapsed": 68802,
     "status": "ok",
     "timestamp": 1562773748143,
     "user": {
      "displayName": "Tsubasa Hirakawa",
      "photoUrl": "https://lh5.googleusercontent.com/-p6Kjr3nd0AU/AAAAAAAAAAI/AAAAAAAAJG0/tCF9JFOo7tk/s64/photo.jpg",
      "userId": "03545166870843244307"
     },
     "user_tz": -540
    },
    "id": "3jZYKYTUkVv-",
    "outputId": "777172f3-8785-4279-c587-7cd17e82a67b"
   },
   "outputs": [
    {
     "name": "stdout",
     "output_type": "stream",
     "text": [
      "epoch       main/loss   validation/main/loss  main/accuracy  validation/main/accuracy  elapsed_time\n",
      "\u001b[J1           0.282162    0.0656008             0.912784       0.9784                    6.24631       \n",
      "\u001b[J2           0.0632516   0.0500385             0.980782       0.9833                    12.8076       \n",
      "\u001b[J3           0.0424177   0.0356537             0.986649       0.9877                    19.4272       \n",
      "\u001b[J4           0.0317902   0.032511              0.990032       0.9889                    26.0255       \n",
      "\u001b[J5           0.0254789   0.0338489             0.992032       0.9904                    33.0992       \n",
      "\u001b[J6           0.0194992   0.0292007             0.994065       0.9897                    39.9385       \n",
      "\u001b[J7           0.0151577   0.0337436             0.995265       0.99                      46.5978       \n",
      "\u001b[J8           0.0118071   0.0285756             0.996533       0.9912                    53.384        \n",
      "\u001b[J9           0.00990797  0.0299046             0.996916       0.9906                    60.1031       \n",
      "\u001b[J10          0.0080829   0.0313092             0.997549       0.9903                    66.7586       \n"
     ]
    }
   ],
   "source": [
    "import numpy as np\n",
    "import chainer.functions as F\n",
    "import chainer.links as L\n",
    "from chainer import training\n",
    "from chainer.training import extensions\n",
    "\n",
    "batch_size = 100\n",
    "epoch_num = 10\n",
    "\n",
    "n_units = 50\n",
    "out_units = 10\n",
    "\n",
    "model = L.Classifier(CNN())\n",
    "model.to_gpu() \n",
    "optimizer = chainer.optimizers.MomentumSGD(lr=0.01, momentum=0.9)\n",
    "optimizer.setup(model)  \n",
    "  \n",
    "train_dataset, test_dataset = chainer.datasets.get_mnist(ndim =3)\n",
    "\n",
    "train_iter = chainer.iterators.SerialIterator(train_dataset, batch_size)\n",
    "test_iter = chainer.iterators.SerialIterator(test_dataset, batch_size,    repeat=False, shuffle=False)\n",
    "\n",
    "updater = training.updaters.StandardUpdater( train_iter, optimizer, device=0)\n",
    "trainer = training.Trainer(updater, (epoch_num, 'epoch'), out='result')\n",
    "\n",
    "trainer.extend(extensions.Evaluator(test_iter, model, device=0))\n",
    "\n",
    "trainer.extend(extensions.dump_graph('main/loss'))\n",
    "\n",
    "trainer.extend(extensions.LogReport())\n",
    "\n",
    "trainer.extend(extensions.PlotReport(['main/loss', 'validation/main/loss'],  'epoch', file_name='loss.png'))\n",
    "trainer.extend(extensions.PlotReport(['main/accuracy', 'validation/main/accuracy'],'epoch', file_name='accuracy.png'))\n",
    "trainer.extend(extensions.PrintReport(['epoch', 'main/loss', 'validation/main/loss', 'main/accuracy', 'validation/main/accuracy', 'elapsed_time']))\n",
    "\n",
    "trainer.run()"
   ]
  }
 ],
 "metadata": {
  "accelerator": "GPU",
  "colab": {
   "collapsed_sections": [],
   "name": "09-B.MNISTを用いた文字認識(CNN).ipynb",
   "provenance": [],
   "version": "0.3.2"
  },
  "kernelspec": {
   "display_name": "Python 3",
   "language": "python",
   "name": "python3"
  },
  "language_info": {
   "codemirror_mode": {
    "name": "ipython",
    "version": 3
   },
   "file_extension": ".py",
   "mimetype": "text/x-python",
   "name": "python",
   "nbconvert_exporter": "python",
   "pygments_lexer": "ipython3",
   "version": "3.5.2"
  }
 },
 "nbformat": 4,
 "nbformat_minor": 4
}
