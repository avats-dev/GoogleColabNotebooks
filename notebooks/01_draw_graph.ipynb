{
 "cells": [
  {
   "cell_type": "markdown",
   "metadata": {
    "colab_type": "text",
    "id": "aPz4tWG9JVCx"
   },
   "source": [
    "# 01. グラフを描画する\n",
    "\n",
    "---\n",
    "## 目的\n",
    "\n",
    "また，PythonとNumpy，Matplotlibを利用して，データをグラフに描画する．今回はPythonに初めて触れる者にも理解できるように細かい説明をつけている．ただし，C言語やLinuxについてある程度理解しておくことが望ましい．"
   ]
  },
  {
   "cell_type": "markdown",
   "metadata": {
    "colab_type": "text",
    "id": "Lqbcj7vi2ZYW"
   },
   "source": [
    "## グラフの描画\n",
    "下記のプログラムを実行すると，`data/car.txt`と`data/human.txt`の2つを読み込みグラフにする．グラフは`graph.png`として保存される．\n",
    "\n",
    "\n",
    "## 準備\n",
    "プログラムの動作に必要なデータをダウンロードし，zipファイルを解凍する．`！`で始まるコマンドはpythonではなく，Linux（Ubuntu）のコマンドを実行している．"
   ]
  },
  {
   "cell_type": "code",
   "execution_count": null,
   "metadata": {
    "colab": {
     "base_uri": "https://localhost:8080/",
     "height": 68
    },
    "colab_type": "code",
    "executionInfo": {
     "elapsed": 15556,
     "status": "ok",
     "timestamp": 1562829008200,
     "user": {
      "displayName": "Tsubasa Hirakawa",
      "photoUrl": "https://lh5.googleusercontent.com/-p6Kjr3nd0AU/AAAAAAAAAAI/AAAAAAAAJG0/tCF9JFOo7tk/s64/photo.jpg",
      "userId": "03545166870843244307"
     },
     "user_tz": -540
    },
    "id": "2x_ZZqWyJUPc",
    "outputId": "5bf345cd-9020-422b-e1e4-77597cbe4879"
   },
   "outputs": [
    {
     "name": "stdout",
     "output_type": "stream",
     "text": [
      "replace data/.DS_Store? [y]es, [n]o, [A]ll, [N]one, [r]ename: A\n",
      "data  data.zip\tdata.zip.1  __MACOSX  sample_data\n",
      "car.txt  human.txt\n"
     ]
    }
   ],
   "source": [
    "!wget -q http://www.mprg.cs.chubu.ac.jp/tutorial/ML_Lecture/sklearn/data.zip\n",
    "!unzip -q data.zip\n",
    "!ls\n",
    "!ls ./data"
   ]
  },
  {
   "cell_type": "markdown",
   "metadata": {
    "colab_type": "text",
    "id": "ukshvBIR46BO"
   },
   "source": [
    "## モジュールのインポート\n",
    "初めに，必要なモジュールを`import`文でインポートする．C/C++の`#include`に似ている．\n",
    "\n",
    "ここでは，次のモジュールをインポートする：\n",
    "\n",
    "- `path`：ファイル構造を取り扱うためのライブラリ\n",
    "- `numpy`：数値計算ライブラリ※\n",
    "- `matplotlib`：グラフ描画ライブラリ※\n",
    "\n",
    "`from os import path`は「osという名前のパッケージ」が存在し，そこから「pathという名前のモジュール」をインポートするということになる．また，`import numpy as np`はインポートしたnumpyに対して「np」という名前をつけるということになる．\n",
    "\n",
    "\n",
    "※ 本来ならば一部のモジュールライブラリは別途インストールが必要だが，配布した仮想環境は既に必要なモジュールライブラリが全てインストールされているため，インストールについては割愛する．"
   ]
  },
  {
   "cell_type": "code",
   "execution_count": null,
   "metadata": {
    "colab": {},
    "colab_type": "code",
    "id": "MLPeogSBJUSE"
   },
   "outputs": [],
   "source": [
    "from os import path\n",
    "import numpy as np\n",
    "import matplotlib.pyplot as plt"
   ]
  },
  {
   "cell_type": "markdown",
   "metadata": {
    "colab_type": "text",
    "id": "LwrsnYPS5LrK"
   },
   "source": [
    "##ファイルの読み込み\n",
    "次に，ファイルを開いて配列に入れる．Pythonには「リスト」と言う配列に似たものが標準で実装されているが，今回はnumpyの機能である配列を利用する．\n",
    "\n",
    "`path.join`はpathモジュール内にある関数で，パスを連結する関数である．ここでは`path.join('data', 'car.txt')`とあるので，`data/car.txt`を返す．\n",
    "\n",
    "変数`in_txt1`と`in_txt2`にはそれぞれ`data/car.txt`と`data/human.txt`への参照が入ることになる．"
   ]
  },
  {
   "cell_type": "code",
   "execution_count": null,
   "metadata": {
    "colab": {
     "base_uri": "https://localhost:8080/",
     "height": 51
    },
    "colab_type": "code",
    "executionInfo": {
     "elapsed": 889,
     "status": "ok",
     "timestamp": 1562829015419,
     "user": {
      "displayName": "Tsubasa Hirakawa",
      "photoUrl": "https://lh5.googleusercontent.com/-p6Kjr3nd0AU/AAAAAAAAAAI/AAAAAAAAJG0/tCF9JFOo7tk/s64/photo.jpg",
      "userId": "03545166870843244307"
     },
     "user_tz": -540
    },
    "id": "3ViJGQHfJUUt",
    "outputId": "3245cacc-3539-4c9c-ef80-c040e84dcddc"
   },
   "outputs": [
    {
     "name": "stdout",
     "output_type": "stream",
     "text": [
      "<_io.TextIOWrapper name='data/car.txt' mode='r' encoding='UTF-8'>\n",
      "<_io.TextIOWrapper name='data/human.txt' mode='r' encoding='UTF-8'>\n"
     ]
    }
   ],
   "source": [
    "in_txt1 = open(path.join('data', 'car.txt'))\n",
    "in_txt2 = open(path.join('data', 'human.txt'))\n",
    "\n",
    "car = np.asarray([(line.strip()).split('\\t') for line in in_txt1], dtype=float)\n",
    "human = np.asarray([(line.strip()).split('\\t') for line in in_txt2], dtype=float)\n",
    "\n",
    "print(in_txt1)\n",
    "print(in_txt2)"
   ]
  },
  {
   "cell_type": "markdown",
   "metadata": {
    "colab_type": "text",
    "id": "Voox5uSr6zIa"
   },
   "source": [
    "## 配列へ格納\n",
    "続いて，ファイルの中身を参照して配列に入れる．`car = np.asarray([(line.strip()).split('\\t') for line in in_txt1])`では，1行でいろいろなことをやっている．これは「リスト内包表記」と呼び，リストを生成するときに簡単に記述できるようにしたものである．\n",
    "この1行をわかりやすく書き直すと次の通りになる："
   ]
  },
  {
   "cell_type": "code",
   "execution_count": null,
   "metadata": {
    "colab": {},
    "colab_type": "code",
    "id": "7MhhPAXNJUZo"
   },
   "outputs": [],
   "source": [
    "in_txt1 = open(path.join('data', 'car.txt'))\n",
    "\n",
    "car = []\n",
    "for line in in_txt1:\n",
    "  car.append( (line.strip()).split('\\t') )\n",
    "car = np.asarray(car, dtype=float)"
   ]
  },
  {
   "cell_type": "markdown",
   "metadata": {
    "colab_type": "text",
    "id": "Euue1o7u7ZRP"
   },
   "source": [
    "まず，`for line in in_txt1:`について説明する．このfor文の書き方はPython特有のものであり，ここでは「`in_txt1`の中身を変数`line`に1行ずつ入れて実行」という意味になる．これにより，テキストファイルを1行ずつ処理することができる．\n",
    "\n",
    "続いて，`(line.strip()).split('\\t')`の`line.strip()`は「文字列変数`line`から空白文字や改行コードを取り除く」ものである．これを行わずに処理を行うと，変数`line`に残っている改行コードが一緒に処理されてしまうため，変数やリストに改行コードが入ってしまうことになる．\n",
    "さらに続けて`.split('\\t')`と記述することにより，先程得られた改行コードのない文字列を「指定された文字列で区切る」ことができる．ここでは`'\\t'`つまりタブが指定されているため，タブで区切る．`1512.000000 (タブ) 26.779374`という文字列があったとき，この処理を行うことで`['1512.000000', '26.779374']`という1つの1次元リストにすることができる．\n",
    "\n",
    "以上の処理をテキストファイル全体に行ったあと，`np.asarray()`でnumpyの配列に変換している．\n"
   ]
  },
  {
   "cell_type": "code",
   "execution_count": null,
   "metadata": {
    "colab": {
     "base_uri": "https://localhost:8080/",
     "height": 1000
    },
    "colab_type": "code",
    "executionInfo": {
     "elapsed": 895,
     "status": "ok",
     "timestamp": 1562829029593,
     "user": {
      "displayName": "Tsubasa Hirakawa",
      "photoUrl": "https://lh5.googleusercontent.com/-p6Kjr3nd0AU/AAAAAAAAAAI/AAAAAAAAJG0/tCF9JFOo7tk/s64/photo.jpg",
      "userId": "03545166870843244307"
     },
     "user_tz": -540
    },
    "id": "7y8Dmupx6Ncz",
    "outputId": "b065d197-88f1-4afd-8460-7198087f31fa"
   },
   "outputs": [
    {
     "name": "stdout",
     "output_type": "stream",
     "text": [
      "[[1512.         26.779374]\n",
      " [1802.         30.181811]\n",
      " [1624.         37.070186]\n",
      " [1595.         31.35323 ]\n",
      " [1705.         29.521916]\n",
      " [1595.         28.129919]\n",
      " [1740.         28.635195]\n",
      " [1920.         26.258527]\n",
      " [2046.         25.805478]\n",
      " [2304.         28.345481]\n",
      " [1980.         22.272106]\n",
      " [2184.         26.606136]\n",
      " [1855.         23.561031]\n",
      " [1980.         21.863881]\n",
      " [2223.         27.445359]\n",
      " [2301.         28.150374]\n",
      " [2840.         31.634094]\n",
      " [2652.         28.387444]\n",
      " [3096.         28.343877]\n",
      " [3010.         28.681518]\n",
      " [2706.         25.6541  ]\n",
      " [3234.         28.881692]\n",
      " [3243.         24.807416]\n",
      " [3430.         25.94729 ]\n",
      " [3834.         25.859545]\n",
      " [4400.         27.323686]\n",
      " [4218.         28.617058]\n",
      " [5124.         28.303789]\n",
      " [4503.         26.306446]\n",
      " [5146.         29.592637]\n",
      " [5355.         28.979888]\n",
      " [5056.         26.290137]\n",
      " [6090.         26.36577 ]\n",
      " [6336.         28.700233]\n",
      " [6825.         25.028423]\n",
      " [6106.         21.146658]\n",
      " [7998.         24.413585]\n",
      " [9568.         31.270208]\n",
      " [9256.         29.856457]\n",
      " [1610.         22.333455]\n",
      " [1591.         21.67529 ]\n",
      " [1927.         20.590284]\n",
      " [2132.         21.607597]\n",
      " [2021.         20.05207 ]\n",
      " [2100.         21.911881]\n",
      " [2385.         20.916641]\n",
      " [2142.         22.828075]\n",
      " [2592.         23.508729]\n",
      " [2900.         20.669156]\n",
      " [3465.         25.817769]\n",
      " [3905.         20.940273]\n",
      " [4060.         24.468648]\n",
      " [3591.         21.80995 ]\n",
      " [4347.         22.278703]\n",
      " [4488.         24.591318]\n",
      " [4828.         22.495096]\n",
      " [5250.         25.44681 ]\n",
      " [6300.         26.554136]\n",
      " [6474.         25.612744]\n",
      " [6952.         25.080909]\n",
      " [6216.         22.186814]\n",
      " [7832.         23.58542 ]\n",
      " [9240.         25.011076]\n",
      " [8928.         24.253629]\n",
      " [1536.         21.403538]\n",
      " [1504.         21.444496]\n",
      " [1551.         21.180597]\n",
      " [1650.         22.318712]\n",
      " [1600.         23.426419]\n",
      " [1728.         23.328331]\n",
      " [1938.         22.126578]\n",
      " [1900.         21.788741]\n",
      " [1911.         20.475552]\n",
      " [1960.         21.413409]\n",
      " [2352.         23.068859]\n",
      " [2340.         20.16408 ]\n",
      " [2679.         23.551041]\n",
      " [2800.         25.435509]\n",
      " [3213.         25.673092]\n",
      " [3402.         26.153333]\n",
      " [3840.         25.441114]\n",
      " [3780.         23.00835 ]\n",
      " [3640.         24.318276]\n",
      " [3944.         23.329107]\n",
      " [4757.         26.741692]\n",
      " [5016.         21.960237]\n",
      " [5168.         21.989482]\n",
      " [5644.         24.417034]\n",
      " [5025.         22.566633]\n",
      " [5460.         22.619956]\n",
      " [5698.         22.101547]\n",
      " [6160.         25.159722]\n",
      " [6720.         25.092673]\n",
      " [7656.         22.389697]\n",
      " [7047.         21.504441]\n",
      " [8464.         24.778876]\n",
      " [8633.         21.935602]\n",
      " [1536.         26.825101]\n",
      " [1755.         25.808467]\n",
      " [2170.         34.739244]\n",
      " [1708.         28.092235]\n",
      " [1716.         28.948212]\n",
      " [1664.         32.214355]\n",
      " [1972.         29.656203]\n",
      " [2516.         32.508618]\n",
      " [2010.         29.174429]\n",
      " [1848.         28.086174]\n",
      " [1755.         25.914892]\n",
      " [2272.         27.070631]\n",
      " [2574.         34.238332]]\n"
     ]
    }
   ],
   "source": [
    "print(car)"
   ]
  },
  {
   "cell_type": "markdown",
   "metadata": {
    "colab_type": "text",
    "id": "1WD-2Qm68I5C"
   },
   "source": [
    "## グラフの描画\n",
    "次に，matplotlibを用いてグラフの描画を行う．\n",
    "\n",
    "### 1. グラフ描画の準備\n",
    "fig = plt.figure()で，新規のプロットウィンドウを作成する．ペイントソフトで例えると「新しいキャンパスの作成」にあたる．\n",
    "subfig = fig.add_subplot(1,1,1)は，プロットウィンドウにグラフを追加する．引数の1,1,1はそれぞれ行数,列数,何番目かを示す．ここではグラフは1つだけなので，すべて1で良い．\n",
    "次の2行はグラフの描画エリアを示すものである．xminおよびyminはX軸およびY軸の最小値，xmaxおよびymaxはX軸およびY軸の最大値である．\n",
    "\n",
    "\n",
    "### 2. データのプロット\n",
    "Pythonのリストやnumpyの配列では，`car[:,0]`のように:(コロン)を使うことで「その配列の要素すべて」を表すことができる．ここでは，`car[0,0]`,`car[1,0]`,`car[2,0]`,`car[3,0]`......と参照する．グラフのX軸を`car[:,0]`つまりファイルの1列目，Y軸を`car[:,1]`つまりファイルの2列目といった具合でプロットする．\n",
    "\n",
    "### 3. グラフのタイトルの追加と保存\n",
    "最後に，タイトル，横軸ラベル，縦軸ラベルを追加して保存する．\n",
    "\n",
    "プログラムの下部に赤と黒の散布図が表示されればOK．"
   ]
  },
  {
   "cell_type": "code",
   "execution_count": null,
   "metadata": {
    "colab": {
     "base_uri": "https://localhost:8080/",
     "height": 499
    },
    "colab_type": "code",
    "executionInfo": {
     "elapsed": 890,
     "status": "ok",
     "timestamp": 1562596524880,
     "user": {
      "displayName": "Tsubasa Hirakawa",
      "photoUrl": "https://lh5.googleusercontent.com/-p6Kjr3nd0AU/AAAAAAAAAAI/AAAAAAAAJG0/tCF9JFOo7tk/s64/photo.jpg",
      "userId": "03545166870843244307"
     },
     "user_tz": -540
    },
    "id": "C3gY9w-Q8TC4",
    "outputId": "d6018f20-7e96-4b62-d089-3c3922f4f96f"
   },
   "outputs": [
    {
     "name": "stderr",
     "output_type": "stream",
     "text": [
      "/usr/local/lib/python3.6/dist-packages/matplotlib/axes/_base.py:3215: MatplotlibDeprecationWarning: \n",
      "The `xmin` argument was deprecated in Matplotlib 3.0 and will be removed in 3.2. Use `left` instead.\n",
      "  alternative='`left`', obj_type='argument')\n",
      "/usr/local/lib/python3.6/dist-packages/matplotlib/axes/_base.py:3221: MatplotlibDeprecationWarning: \n",
      "The `xmax` argument was deprecated in Matplotlib 3.0 and will be removed in 3.2. Use `right` instead.\n",
      "  alternative='`right`', obj_type='argument')\n",
      "/usr/local/lib/python3.6/dist-packages/matplotlib/axes/_base.py:3604: MatplotlibDeprecationWarning: \n",
      "The `ymin` argument was deprecated in Matplotlib 3.0 and will be removed in 3.2. Use `bottom` instead.\n",
      "  alternative='`bottom`', obj_type='argument')\n",
      "/usr/local/lib/python3.6/dist-packages/matplotlib/axes/_base.py:3610: MatplotlibDeprecationWarning: \n",
      "The `ymax` argument was deprecated in Matplotlib 3.0 and will be removed in 3.2. Use `top` instead.\n",
      "  alternative='`top`', obj_type='argument')\n"
     ]
    },
    {
     "data": {
      "image/png": "[encoded data removed]",
      "text/plain": [
       "<Figure size 432x288 with 1 Axes>"
      ]
     },
     "metadata": {
      "tags": []
     },
     "output_type": "display_data"
    }
   ],
   "source": [
    "# 1. グラフ描画の準備\n",
    "fig = plt.figure()\n",
    "subfig = fig.add_subplot(1,1,1)\n",
    "plt.xlim(xmin=0, xmax = 10000)\n",
    "plt.ylim(ymin=0, ymax = 50)\n",
    "\n",
    "# 2. データのプロット\n",
    "subfig.scatter(car[:,0], car[:,1],color='black')\n",
    "subfig.scatter(human[:,0], human[:,1],color='red')\n",
    "\n",
    "# 3. グラフのタイトルの追加と保存\n",
    "subfig.set_title('Feature Distribution')\n",
    "subfig.set_xlabel('Area')\n",
    "subfig.set_ylabel('complexity')\n",
    "\n",
    "plt.savefig(\"01_graph.png\")\n",
    "plt.show()"
   ]
  },
  {
   "cell_type": "markdown",
   "metadata": {
    "colab_type": "text",
    "id": "NweVowT58a-i"
   },
   "source": [
    "#課題\n",
    "\n",
    "1. carのプロット点をblackではなくblueに変更せよ．\n",
    "2. グラフのy軸の範囲を変更せよ．\n",
    "\n",
    "##ヒント\n",
    "\n",
    "1. `color=''`の記述を変えるだけ．\n",
    "2. Yの最小値は20が良い．"
   ]
  },
  {
   "cell_type": "code",
   "execution_count": null,
   "metadata": {
    "colab": {},
    "colab_type": "code",
    "id": "pA7cHq1A2IPq"
   },
   "outputs": [],
   "source": []
  }
 ],
 "metadata": {
  "accelerator": "GPU",
  "colab": {
   "collapsed_sections": [],
   "name": "01.グラフを描画する.ipynb",
   "provenance": [],
   "version": "0.3.2"
  },
  "kernelspec": {
   "display_name": "Python 3",
   "language": "python",
   "name": "python3"
  },
  "language_info": {
   "codemirror_mode": {
    "name": "ipython",
    "version": 3
   },
   "file_extension": ".py",
   "mimetype": "text/x-python",
   "name": "python",
   "nbconvert_exporter": "python",
   "pygments_lexer": "ipython3",
   "version": "3.5.2"
  }
 },
 "nbformat": 4,
 "nbformat_minor": 4
}
