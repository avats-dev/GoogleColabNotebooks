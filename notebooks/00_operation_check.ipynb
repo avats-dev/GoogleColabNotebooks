{
 "cells": [
  {
   "cell_type": "markdown",
   "metadata": {
    "colab_type": "text",
    "id": "8G5SYENhn6Vg"
   },
   "source": [
    "# 00. Google Colaboratoryの動作確認\n",
    "\n",
    "---\n",
    "## 目的\n",
    "Google Colaboratoryの動作環境を確認し，使い方について学ぶ．"
   ]
  },
  {
   "cell_type": "markdown",
   "metadata": {
    "colab_type": "text",
    "id": "KOKaXxLwyb2D"
   },
   "source": [
    "## Google Colaboratoryについて\n",
    "\n",
    "Google Colaboratory (以下，Colab.) はGoogleが提供するクラウド型のJupyter Notebook環境です．\n",
    "Google Colab.は機械学習や画像認識に関する教育や研究を目的として開発されたサービスであり，無料で使用することができます．"
   ]
  },
  {
   "cell_type": "markdown",
   "metadata": {},
   "source": [
    "## Google Colab. (Jupyter Notebook) のセル\n",
    "\n",
    "Google Colab.では「セル」にプログラムや説明文を記述して，ノートのようにプログラムを整理します．\n",
    "セルには\n",
    "1. Markdown セル\n",
    "2. Code セル\n",
    "の2種類が存在します．\n",
    "\n",
    "#### 1. Markdownセル\n",
    "Markdownセルは，GitHubのREADMEやQiitaのページを記述する際に用いられるMarkdown記法を用いて，説明文等を記述することができます．\n",
    "\n",
    "#### 2. Codeセル\n",
    "Codeセルはプログラムを記述するためのセルです．通常のPythonと同じようにプログラムを記述します．"
   ]
  },
  {
   "cell_type": "markdown",
   "metadata": {},
   "source": [
    "## 実行方法\n",
    "実行はCodeセルの左にある実行ボタンをクリックすることで，一つづつ実行することができます．\n",
    "また，実行したいセルを選択した状態で，`Shift + Enter`を押すことでも実行可能です．"
   ]
  },
  {
   "cell_type": "markdown",
   "metadata": {
    "colab_type": "text",
    "id": "3gcE9SVYzC3m"
   },
   "source": [
    "### 計算機のOS確認\n",
    "下記のコードを実行してOSを確認してみます．\n",
    "\n"
   ]
  },
  {
   "cell_type": "code",
   "execution_count": null,
   "metadata": {
    "colab": {
     "base_uri": "https://localhost:8080/",
     "height": 102
    },
    "colab_type": "code",
    "executionInfo": {
     "elapsed": 3249,
     "status": "ok",
     "timestamp": 1562828227162,
     "user": {
      "displayName": "Tsubasa Hirakawa",
      "photoUrl": "https://lh5.googleusercontent.com/-p6Kjr3nd0AU/AAAAAAAAAAI/AAAAAAAAJG0/tCF9JFOo7tk/s64/photo.jpg",
      "userId": "03545166870843244307"
     },
     "user_tz": -540
    },
    "id": "FJqP5_-vyb8u",
    "outputId": "7f485664-72ba-409d-88d0-39f2b8e639d8"
   },
   "outputs": [],
   "source": [
    "!lsb_release -a"
   ]
  },
  {
   "cell_type": "markdown",
   "metadata": {
    "colab_type": "text",
    "id": "pFGC3y1I0Upl"
   },
   "source": [
    "### ハードウェアの確認\n",
    "\n",
    "#### CPU\n",
    "\n",
    "下記のプログラムを実行してCPU情報を確認します．"
   ]
  },
  {
   "cell_type": "code",
   "execution_count": null,
   "metadata": {
    "colab": {
     "base_uri": "https://localhost:8080/",
     "height": 68
    },
    "colab_type": "code",
    "executionInfo": {
     "elapsed": 6111,
     "status": "ok",
     "timestamp": 1562828423604,
     "user": {
      "displayName": "Tsubasa Hirakawa",
      "photoUrl": "https://lh5.googleusercontent.com/-p6Kjr3nd0AU/AAAAAAAAAAI/AAAAAAAAJG0/tCF9JFOo7tk/s64/photo.jpg",
      "userId": "03545166870843244307"
     },
     "user_tz": -540
    },
    "id": "6B680KB_0Utd",
    "outputId": "9a6aec13-8a81-4b24-f75f-ef927a4cca6c"
   },
   "outputs": [],
   "source": [
    "!cat /proc/cpuinfo | grep 'model name' | uniq\n",
    "!cat /proc/cpuinfo | grep 'processor' | uniq"
   ]
  },
  {
   "cell_type": "markdown",
   "metadata": {
    "colab_type": "text",
    "id": "e9b3Yt1V0UxV"
   },
   "source": [
    "#### メモリ\n",
    "\n",
    "メモリの総容量と現在の使用状況はこのページの右上の「RAM」と表示されているアイコンにカーソルを重ねることでも，確認することができます．"
   ]
  },
  {
   "cell_type": "code",
   "execution_count": null,
   "metadata": {
    "colab": {
     "base_uri": "https://localhost:8080/",
     "height": 51
    },
    "colab_type": "code",
    "executionInfo": {
     "elapsed": 5865,
     "status": "ok",
     "timestamp": 1562828632749,
     "user": {
      "displayName": "Tsubasa Hirakawa",
      "photoUrl": "https://lh5.googleusercontent.com/-p6Kjr3nd0AU/AAAAAAAAAAI/AAAAAAAAJG0/tCF9JFOo7tk/s64/photo.jpg",
      "userId": "03545166870843244307"
     },
     "user_tz": -540
    },
    "id": "Q3ppY9ZT0U14",
    "outputId": "49be3915-b1ec-482c-a36c-cf73dbbcae64"
   },
   "outputs": [],
   "source": [
    "!cat /proc/meminfo | grep 'MemTotal'\n",
    "!cat /proc/meminfo | grep 'MemAvailable'"
   ]
  },
  {
   "cell_type": "markdown",
   "metadata": {
    "colab_type": "text",
    "id": "AQ0vG_Wt2HGy"
   },
   "source": [
    "#### GPU\n",
    "\n",
    "下記のプログラムを実行して，GPUの種類を確認します．\n",
    "情報が表示されない場合は，**上部のメニューバーの「ランタイム」→「ランタイムのタイプを変更」からハードウェアアクセラレータをGPUにしてください．**"
   ]
  },
  {
   "cell_type": "code",
   "execution_count": null,
   "metadata": {
    "colab": {
     "base_uri": "https://localhost:8080/",
     "height": 289
    },
    "colab_type": "code",
    "executionInfo": {
     "elapsed": 3809,
     "status": "ok",
     "timestamp": 1562828707718,
     "user": {
      "displayName": "Tsubasa Hirakawa",
      "photoUrl": "https://lh5.googleusercontent.com/-p6Kjr3nd0AU/AAAAAAAAAAI/AAAAAAAAJG0/tCF9JFOo7tk/s64/photo.jpg",
      "userId": "03545166870843244307"
     },
     "user_tz": -540
    },
    "id": "JNFjzVEj2HLK",
    "outputId": "2fdb8e0b-561b-487a-855b-65dc4a6fc65f"
   },
   "outputs": [],
   "source": [
    "!nvidia-smi"
   ]
  }
 ],
 "metadata": {
  "accelerator": "GPU",
  "colab": {
   "collapsed_sections": [],
   "name": "00.Google Colaboratoryの動作確認.ipynb",
   "provenance": [],
   "version": "0.3.2"
  },
  "kernelspec": {
   "display_name": "Python 3",
   "language": "python",
   "name": "python3"
  },
  "language_info": {
   "codemirror_mode": {
    "name": "ipython",
    "version": 3
   },
   "file_extension": ".py",
   "mimetype": "text/x-python",
   "name": "python",
   "nbconvert_exporter": "python",
   "pygments_lexer": "ipython3",
   "version": "3.5.2"
  }
 },
 "nbformat": 4,
 "nbformat_minor": 4
}
